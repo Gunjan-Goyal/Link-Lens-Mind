{
 "cells": [
  {
   "cell_type": "markdown",
   "id": "11253eae",
   "metadata": {},
   "source": [
    "## Document Loading in Langchain"
   ]
  },
  {
   "cell_type": "markdown",
   "id": "bbe88141",
   "metadata": {},
   "source": [
    "### Text Loader"
   ]
  },
  {
   "cell_type": "code",
   "execution_count": 2,
   "id": "218a229d",
   "metadata": {},
   "outputs": [
    {
     "data": {
      "text/plain": [
       "[Document(metadata={'source': 'nvdia news.txt'}, page_content='Nvidia shares plunge amid $5.5bn hit over export rules to China\\n\\nShares in Nvidia plunged on Wednesday after the computer chip giant said it would be hit by $5.5bn (Â£4.2bn) in costs due to the US government tightening its export rules to China.\\n\\nThe firm, which has been at the heart of the artificial intelligence (AI) boom, will require licences to export its H20 AI chip to China, which has been one of its most popular.\\n\\nThe rules come as part of an escalating trade war between the US and China, with both countries introducing steep trade tariffs on each other covering various goods.\\n\\nNvidia shares fell almost 7% on Wednesday. The Nasdaq exchange it is listed on ended the day down 3.1%.\\n\\nThe company announced on Tuesday that the US government had told it last week that the H20 chip required a permit to be sold to China, including Hong Kong.\\n\\nThe tech giant said federal officials had advised them the licence requirement \"will be in effect for the indefinite future\".\\n\\n\"The [government] indicated that the license requirement addresses the risk that the covered products may be used in, or diverted to, a supercomputer in China,\" Nvidia said.\\n\\nThe company declined to comment further when contacted by the BBC.\\n\\nMarc Einstein from the Counterpoint Research consultancy said the $5.5bn hit estimated by Nvidia was in line with his estimates.\\n\\nBut he said \"while this is certainly a lot of money, this is something Nvidia can bear\".\\n\\n\"As we have seen in the last few days and weeks, this may largely be a negotiating tactic. I wouldn\\'t be surprised to see some exemptions or changes made to tariff policy in the near future, given this not only impacts Nvidia but the entire US semiconductor ecosystem,\" Mr Einstein added.\\n\\nChips remain a battleground in the US-China race for tech supremacy, and US President Donald Trump now wants to turbocharge a highly complex and delicate manufacturing process that has taken other regions decades to perfect.\\n\\nNvidia\\'s AI chips have been a key focus of US export controls. Founded in 1993, it was originally known for making the type of computer chips that process graphics, particularly for computer games.\\n\\nLong before the AI revolution, it started adding features to its chips that it says help machine learning. It is now seen as a key company to watch to see how fast AI-powered tech is spreading across the business world.\\n\\nThe company\\'s value took a hit in January when it was reported that a rival Chinese AI app, DeepSeek, had been built at a fraction of the cost of other chatbots.\\n\\nAt the time, the US was considered to have been caught off guard by their rival\\'s technological achievement.\\n\\nNvidia said its $5.5bn charges would be associated with H20 products for inventory, purchase commitments and related reserves.\\n\\nRui Ma, founder of the Tech Buzz China podcast, said she expects the US and China AI semiconductor supply chains to be \"fully decoupled\" if restrictions stay in place.\\n\\nShe added: \"It doesn\\'t make any sense for any Chinese customer to be dependent on US chips\" especially since there is an oversupply of data centres in China.')]"
      ]
     },
     "execution_count": 2,
     "metadata": {},
     "output_type": "execute_result"
    }
   ],
   "source": [
    "# Import libraries\n",
    "from langchain.document_loaders import TextLoader\n",
    "\n",
    "loader = TextLoader(\"nvdia news.txt\")\n",
    "data = loader.load()\n",
    "data"
   ]
  },
  {
   "cell_type": "code",
   "execution_count": 3,
   "id": "acde9c25",
   "metadata": {},
   "outputs": [
    {
     "data": {
      "text/plain": [
       "langchain_community.document_loaders.text.TextLoader"
      ]
     },
     "execution_count": 3,
     "metadata": {},
     "output_type": "execute_result"
    }
   ],
   "source": [
    "type(loader)"
   ]
  },
  {
   "cell_type": "code",
   "execution_count": 6,
   "id": "734ff64f",
   "metadata": {},
   "outputs": [
    {
     "data": {
      "text/plain": [
       "'nvdia news.txt'"
      ]
     },
     "execution_count": 6,
     "metadata": {},
     "output_type": "execute_result"
    }
   ],
   "source": [
    "loader.file_path"
   ]
  },
  {
   "cell_type": "code",
   "execution_count": 7,
   "id": "c8773cd4",
   "metadata": {},
   "outputs": [
    {
     "data": {
      "text/plain": [
       "{'source': 'nvdia news.txt'}"
      ]
     },
     "execution_count": 7,
     "metadata": {},
     "output_type": "execute_result"
    }
   ],
   "source": [
    "data[0].metadata"
   ]
  },
  {
   "cell_type": "markdown",
   "id": "3eb0c851",
   "metadata": {},
   "source": [
    "### CSV Loader"
   ]
  },
  {
   "cell_type": "code",
   "execution_count": 8,
   "id": "51a7832f",
   "metadata": {},
   "outputs": [
    {
     "data": {
      "text/plain": [
       "[Document(metadata={'source': 'movies.csv', 'row': 0}, page_content='movie_id: 101\\ntitle: K.G.F: Chapter 2\\nindustry: Bollywood\\nrelease_year: 2022\\nimdb_rating: 8.4\\nstudio: Hombale Films\\nlanguage_id: 3\\nbudget: 1\\nrevenue: 12.5\\nunit: Billions\\ncurrency: INR'),\n",
       " Document(metadata={'source': 'movies.csv', 'row': 1}, page_content='movie_id: 102\\ntitle: Doctor Strange in the Multiverse of Madness\\nindustry: Hollywood\\nrelease_year: 2022\\nimdb_rating: 7\\nstudio: Marvel Studios\\nlanguage_id: 5\\nbudget: 200\\nrevenue: 954.8\\nunit: Millions\\ncurrency: USD'),\n",
       " Document(metadata={'source': 'movies.csv', 'row': 2}, page_content='movie_id: 103\\ntitle: Thor: The Dark World\\nindustry: Hollywood\\nrelease_year: 2013\\nimdb_rating: 6.8\\nstudio: Marvel Studios\\nlanguage_id: 5\\nbudget: 165\\nrevenue: 644.8\\nunit: Millions\\ncurrency: USD'),\n",
       " Document(metadata={'source': 'movies.csv', 'row': 3}, page_content='movie_id: 104\\ntitle: Thor: Ragnarok\\nindustry: Hollywood\\nrelease_year: 2017\\nimdb_rating: 7.9\\nstudio: Marvel Studios\\nlanguage_id: 5\\nbudget: 180\\nrevenue: 854\\nunit: Millions\\ncurrency: USD'),\n",
       " Document(metadata={'source': 'movies.csv', 'row': 4}, page_content='movie_id: 105\\ntitle: Thor: Love and Thunder\\nindustry: Hollywood\\nrelease_year: 2022\\nimdb_rating: 6.8\\nstudio: Marvel Studios\\nlanguage_id: 5\\nbudget: 250\\nrevenue: 670\\nunit: Millions\\ncurrency: USD'),\n",
       " Document(metadata={'source': 'movies.csv', 'row': 5}, page_content='movie_id: 106\\ntitle: Sholay\\nindustry: Bollywood\\nrelease_year: 1975\\nimdb_rating: 8.1\\nstudio: United Producers\\nlanguage_id: 1\\nbudget: Not Available\\nrevenue: Not Available\\nunit: Not Available\\ncurrency: Not Available'),\n",
       " Document(metadata={'source': 'movies.csv', 'row': 6}, page_content='movie_id: 107\\ntitle: Dilwale Dulhania Le Jayenge\\nindustry: Bollywood\\nrelease_year: 1995\\nimdb_rating: 8\\nstudio: Yash Raj Films\\nlanguage_id: 1\\nbudget: 400\\nrevenue: 2000\\nunit: Millions\\ncurrency: INR'),\n",
       " Document(metadata={'source': 'movies.csv', 'row': 7}, page_content='movie_id: 108\\ntitle: 3 Idiots\\nindustry: Bollywood\\nrelease_year: 2009\\nimdb_rating: 8.4\\nstudio: Vinod Chopra Films\\nlanguage_id: 1\\nbudget: 550\\nrevenue: 4000\\nunit: Millions\\ncurrency: INR'),\n",
       " Document(metadata={'source': 'movies.csv', 'row': 8}, page_content='movie_id: 109\\ntitle: Kabhi Khushi Kabhie Gham\\nindustry: Bollywood\\nrelease_year: 2001\\nimdb_rating: 7.4\\nstudio: Dharma Productions\\nlanguage_id: 1\\nbudget: 390\\nrevenue: 1360\\nunit: Millions\\ncurrency: INR')]"
      ]
     },
     "execution_count": 8,
     "metadata": {},
     "output_type": "execute_result"
    }
   ],
   "source": [
    "# Import libraries\n",
    "from langchain.document_loaders import CSVLoader\n",
    "import nltk\n",
    "import pandas as pd\n",
    "\n",
    "loader_CSV = CSVLoader(\"movies.csv\")\n",
    "data_CSV = loader_CSV.load()\n",
    "data_CSV"
   ]
  },
  {
   "cell_type": "code",
   "execution_count": 9,
   "id": "a18bcc06",
   "metadata": {},
   "outputs": [
    {
     "data": {
      "text/html": [
       "<div>\n",
       "<style scoped>\n",
       "    .dataframe tbody tr th:only-of-type {\n",
       "        vertical-align: middle;\n",
       "    }\n",
       "\n",
       "    .dataframe tbody tr th {\n",
       "        vertical-align: top;\n",
       "    }\n",
       "\n",
       "    .dataframe thead th {\n",
       "        text-align: right;\n",
       "    }\n",
       "</style>\n",
       "<table border=\"1\" class=\"dataframe\">\n",
       "  <thead>\n",
       "    <tr style=\"text-align: right;\">\n",
       "      <th></th>\n",
       "      <th>movie_id</th>\n",
       "      <th>title</th>\n",
       "      <th>industry</th>\n",
       "      <th>release_year</th>\n",
       "      <th>imdb_rating</th>\n",
       "      <th>studio</th>\n",
       "      <th>language_id</th>\n",
       "      <th>budget</th>\n",
       "      <th>revenue</th>\n",
       "      <th>unit</th>\n",
       "      <th>currency</th>\n",
       "    </tr>\n",
       "  </thead>\n",
       "  <tbody>\n",
       "    <tr>\n",
       "      <th>0</th>\n",
       "      <td>101</td>\n",
       "      <td>K.G.F: Chapter 2</td>\n",
       "      <td>Bollywood</td>\n",
       "      <td>2022</td>\n",
       "      <td>8.4</td>\n",
       "      <td>Hombale Films</td>\n",
       "      <td>3</td>\n",
       "      <td>1</td>\n",
       "      <td>12.5</td>\n",
       "      <td>Billions</td>\n",
       "      <td>INR</td>\n",
       "    </tr>\n",
       "    <tr>\n",
       "      <th>1</th>\n",
       "      <td>102</td>\n",
       "      <td>Doctor Strange in the Multiverse of Madness</td>\n",
       "      <td>Hollywood</td>\n",
       "      <td>2022</td>\n",
       "      <td>7.0</td>\n",
       "      <td>Marvel Studios</td>\n",
       "      <td>5</td>\n",
       "      <td>200</td>\n",
       "      <td>954.8</td>\n",
       "      <td>Millions</td>\n",
       "      <td>USD</td>\n",
       "    </tr>\n",
       "  </tbody>\n",
       "</table>\n",
       "</div>"
      ],
      "text/plain": [
       "   movie_id                                        title   industry  \\\n",
       "0       101                             K.G.F: Chapter 2  Bollywood   \n",
       "1       102  Doctor Strange in the Multiverse of Madness  Hollywood   \n",
       "\n",
       "   release_year  imdb_rating          studio  language_id budget revenue  \\\n",
       "0          2022          8.4   Hombale Films            3      1    12.5   \n",
       "1          2022          7.0  Marvel Studios            5    200   954.8   \n",
       "\n",
       "       unit currency  \n",
       "0  Billions      INR  \n",
       "1  Millions      USD  "
      ]
     },
     "execution_count": 9,
     "metadata": {},
     "output_type": "execute_result"
    }
   ],
   "source": [
    "table = pd.read_csv(\"movies.csv\")\n",
    "table.head(2)"
   ]
  },
  {
   "cell_type": "code",
   "execution_count": 10,
   "id": "2c15ad03",
   "metadata": {},
   "outputs": [
    {
     "data": {
      "text/plain": [
       "9"
      ]
     },
     "execution_count": 10,
     "metadata": {},
     "output_type": "execute_result"
    }
   ],
   "source": [
    "len(data_CSV)"
   ]
  },
  {
   "cell_type": "code",
   "execution_count": 11,
   "id": "ddfee3e2",
   "metadata": {},
   "outputs": [
    {
     "data": {
      "text/plain": [
       "{'source': 'movies.csv', 'row': 0}"
      ]
     },
     "execution_count": 11,
     "metadata": {},
     "output_type": "execute_result"
    }
   ],
   "source": [
    "data_CSV[0].metadata"
   ]
  },
  {
   "cell_type": "code",
   "execution_count": 12,
   "id": "564f8550",
   "metadata": {},
   "outputs": [
    {
     "data": {
      "text/plain": [
       "[Document(metadata={'source': 'K.G.F: Chapter 2', 'row': 0}, page_content='movie_id: 101\\ntitle: K.G.F: Chapter 2\\nindustry: Bollywood\\nrelease_year: 2022\\nimdb_rating: 8.4\\nstudio: Hombale Films\\nlanguage_id: 3\\nbudget: 1\\nrevenue: 12.5\\nunit: Billions\\ncurrency: INR'),\n",
       " Document(metadata={'source': 'Doctor Strange in the Multiverse of Madness', 'row': 1}, page_content='movie_id: 102\\ntitle: Doctor Strange in the Multiverse of Madness\\nindustry: Hollywood\\nrelease_year: 2022\\nimdb_rating: 7\\nstudio: Marvel Studios\\nlanguage_id: 5\\nbudget: 200\\nrevenue: 954.8\\nunit: Millions\\ncurrency: USD'),\n",
       " Document(metadata={'source': 'Thor: The Dark World', 'row': 2}, page_content='movie_id: 103\\ntitle: Thor: The Dark World\\nindustry: Hollywood\\nrelease_year: 2013\\nimdb_rating: 6.8\\nstudio: Marvel Studios\\nlanguage_id: 5\\nbudget: 165\\nrevenue: 644.8\\nunit: Millions\\ncurrency: USD'),\n",
       " Document(metadata={'source': 'Thor: Ragnarok', 'row': 3}, page_content='movie_id: 104\\ntitle: Thor: Ragnarok\\nindustry: Hollywood\\nrelease_year: 2017\\nimdb_rating: 7.9\\nstudio: Marvel Studios\\nlanguage_id: 5\\nbudget: 180\\nrevenue: 854\\nunit: Millions\\ncurrency: USD'),\n",
       " Document(metadata={'source': 'Thor: Love and Thunder', 'row': 4}, page_content='movie_id: 105\\ntitle: Thor: Love and Thunder\\nindustry: Hollywood\\nrelease_year: 2022\\nimdb_rating: 6.8\\nstudio: Marvel Studios\\nlanguage_id: 5\\nbudget: 250\\nrevenue: 670\\nunit: Millions\\ncurrency: USD'),\n",
       " Document(metadata={'source': 'Sholay', 'row': 5}, page_content='movie_id: 106\\ntitle: Sholay\\nindustry: Bollywood\\nrelease_year: 1975\\nimdb_rating: 8.1\\nstudio: United Producers\\nlanguage_id: 1\\nbudget: Not Available\\nrevenue: Not Available\\nunit: Not Available\\ncurrency: Not Available'),\n",
       " Document(metadata={'source': 'Dilwale Dulhania Le Jayenge', 'row': 6}, page_content='movie_id: 107\\ntitle: Dilwale Dulhania Le Jayenge\\nindustry: Bollywood\\nrelease_year: 1995\\nimdb_rating: 8\\nstudio: Yash Raj Films\\nlanguage_id: 1\\nbudget: 400\\nrevenue: 2000\\nunit: Millions\\ncurrency: INR'),\n",
       " Document(metadata={'source': '3 Idiots', 'row': 7}, page_content='movie_id: 108\\ntitle: 3 Idiots\\nindustry: Bollywood\\nrelease_year: 2009\\nimdb_rating: 8.4\\nstudio: Vinod Chopra Films\\nlanguage_id: 1\\nbudget: 550\\nrevenue: 4000\\nunit: Millions\\ncurrency: INR'),\n",
       " Document(metadata={'source': 'Kabhi Khushi Kabhie Gham', 'row': 8}, page_content='movie_id: 109\\ntitle: Kabhi Khushi Kabhie Gham\\nindustry: Bollywood\\nrelease_year: 2001\\nimdb_rating: 7.4\\nstudio: Dharma Productions\\nlanguage_id: 1\\nbudget: 390\\nrevenue: 1360\\nunit: Millions\\ncurrency: INR')]"
      ]
     },
     "execution_count": 12,
     "metadata": {},
     "output_type": "execute_result"
    }
   ],
   "source": [
    "loaderCSV2 = CSVLoader(\"movies.csv\", source_column= \"title\")\n",
    "dataCSV2 = loaderCSV2.load()\n",
    "dataCSV2"
   ]
  },
  {
   "cell_type": "code",
   "execution_count": 13,
   "id": "0b8e29cf",
   "metadata": {},
   "outputs": [
    {
     "data": {
      "text/plain": [
       "{'source': 'K.G.F: Chapter 2', 'row': 0}"
      ]
     },
     "execution_count": 13,
     "metadata": {},
     "output_type": "execute_result"
    }
   ],
   "source": [
    "dataCSV2[0].metadata"
   ]
  },
  {
   "cell_type": "markdown",
   "id": "01ac02e2",
   "metadata": {},
   "source": [
    "### Unstructured URL Loader"
   ]
  },
  {
   "cell_type": "code",
   "execution_count": 14,
   "id": "2efc997d",
   "metadata": {},
   "outputs": [],
   "source": [
    "# Import libraries\n",
    "from langchain.document_loaders import UnstructuredURLLoader\n",
    "\n",
    "loaderURL = UnstructuredURLLoader(urls=[\n",
    "    \"https://www.business-standard.com/markets/news/hdfc-bank-may-pocket-in-rs-9-373-cr-profit-from-hdb-financial-services-ipo-125062000535_1.html\",\n",
    "    \"https://economictimes.indiatimes.com/industry/transportation/airlines-/-aviation/air-india-bookings-down-20-fares-dip-up-to-15-after-dreamliner-crash/articleshow/121977625.cms?from=mdr\"\n",
    "])"
   ]
  },
  {
   "cell_type": "code",
   "execution_count": 15,
   "id": "8aeb0222",
   "metadata": {},
   "outputs": [
    {
     "data": {
      "text/plain": [
       "2"
      ]
     },
     "execution_count": 15,
     "metadata": {},
     "output_type": "execute_result"
    }
   ],
   "source": [
    "dataURL = loaderURL.load()\n",
    "len(dataURL)"
   ]
  },
  {
   "cell_type": "code",
   "execution_count": 16,
   "id": "c557ae22",
   "metadata": {},
   "outputs": [
    {
     "data": {
      "text/plain": [
       "Document(metadata={'source': 'https://www.business-standard.com/markets/news/hdfc-bank-may-pocket-in-rs-9-373-cr-profit-from-hdb-financial-services-ipo-125062000535_1.html'}, page_content='Access Denied\\n\\nYou don\\'t have permission to access \"http://www.business-standard.com/markets/news/hdfc-bank-may-pocket-in-rs-9-373-cr-profit-from-hdb-financial-services-ipo-125062000535_1.html\" on this server.\\n\\nReference #18.266d3f17.1750705249.19fb0255\\n\\nhttps://errors.edgesuite.net/18.266d3f17.1750705249.19fb0255')"
      ]
     },
     "execution_count": 16,
     "metadata": {},
     "output_type": "execute_result"
    }
   ],
   "source": [
    "dataURL[0]"
   ]
  },
  {
   "cell_type": "markdown",
   "id": "daa52e9c",
   "metadata": {},
   "source": [
    "## Text Splitting in Langchain"
   ]
  },
  {
   "cell_type": "code",
   "execution_count": 17,
   "id": "2ace2c13",
   "metadata": {},
   "outputs": [],
   "source": [
    "# Text from articles\n",
    "\n",
    "text = \"\"\"During lst years presidential campaign, Donald Trump constantly repeated his intention to bring about dramatic change as soon as he returned to the White House.\n",
    "But few expected it to come at such breakneck speed.\n",
    "In the three months since he took the oath of office, the 47th president has deployed his power in a way that compares to few predecessors.\n",
    "In stacks of bound documents signed off with a presidential pen and policy announcements made in all caps on social media, his blizzard of executive actions has reached into every corner of American life.\n",
    "To his supporters, the shock-and-awe approach has been a tangible demonstration of an all-action president, delivering on his promises and enacting long-awaited reforms.\n",
    "But his critics fear he is doing irreparable harm to the country and overstepping his powers - crippling important government functions and perhaps permanently reshaping the presidency in the process.\n",
    "Here are six turning points from the first 100 days.\n",
    "A social media post sets off a constitutional firestorm\n",
    "For once, it was not a Trump social media post that sparked an outcry.\n",
    "Three weeks into the new term, at 10.13am on a Sunday morning, Vice-President JD Vance wrote nine words that signalled a strategy which has since shaped the Trump administrations second term.\n",
    "'Judges arent allowed to control the executives legitimate power,' he declared on X.\n",
    "In the media frenzy that followed, legal experts lined up to challenge that assertion, pointing to a 220-year-old principle which lies at the heart of American democracy.\n",
    "Courts have the power to check and strike down any government action - laws, regulations and executive orders - they think violates the US Constitution.\n",
    "Vances words represented a brazen challenge to judicial authority and, more broadly, the system of three co-equal branches of government crafted by Americas founders.\n",
    "But Trump and his team remain unapologetic in extending the reach of the executive branch into the two other domains - Congress and the courts.\n",
    "The White House has moved aggressively to wrest control of spending from Congress, unilaterally defunding programmes and entire agencies.\n",
    "This erosion of its power has been largely met by silence on Capitol Hill, where Trumps Republicans hold slim majorities in both chambers.\n",
    "The courts have been more resistant, with well over 100 rulings so far halting presidential actions they deem to be unconstitutional, according to a tally by the New York Times.\n",
    "Some of the biggest clashes have been over Trumps immigration crackdown. In March, more than 200 Venezuelans deemed a danger to the US, were deported to El Salvador, many under sweeping wartime powers and without the usual process of evidence being presented in court.\n",
    "A Republican-appointed judge on a federal appeals court said he was shocked by how the White House had acted.\n",
    "'Now the branches come too close to grinding irrevocably against one another in a conflict that promises to diminish both,' Judge J. Harvie Wilkinson wrote.\n",
    "Trump and White House officials have said they will obey court rulings, even as the president lambasts many of the judges who issue them and the administration at times moves slowly to fully comply.\n",
    "It all amounts to a unique test of a constitutional system that for centuries has operated under a certain amount of good faith.\n",
    "While Trump has been at the centre of this push, one of his principal agents of chaos is a man who wasnt born in the US, but who built a business empire there.\n",
    "Day 32 - Government cuts\n",
    "Brandishing a chainsaw, dressed in black\n",
    "Elon Musk, dressed in black from head to toe and wearing sunglasses, stood centre stage and basked in the adulation of the Conservative Political Action Conference crowd.\n",
    "The richest man in the world, who wants to cut trillions of dollars from the federal government, said he had a special surprise.\n",
    "Argentinian President Javier Milei, known for his own budget-slashing, emerged from backstage and handed him a shiny gold chainsaw.\n",
    "This is the chainsaw for bureaucracy, Musk exclaimed. CHAINSAW!!\n",
    "It was a dramatic illustration not only of Musks enthusiasm for his \"Department of Government Efficiency\" (Doge) assignment, but also of the near rock-star status that the South African-born technologist has developed among the Trump faithful.\n",
    "Since that appearance, Musk has dispatched his operatives across the federal government, pushing to access sensitive government databases and identify programmes to slash.\n",
    "Although he has not come anywhere near to finding the trillions of dollars of waste he once promised, his cuts have drastically reduced dozens of agencies and departments - essentially shutting down the US Agency for International Development (USAID) and attempting to dismantle the Department of Education.\n",
    "While pledges to cut \"waste, fraud and abuse\" in government and trim the ballooning federal deficit typically have broad appeal, the manner in which Musk has used his metaphorical chainsaw has led to conflict with senior government officials and stoked anger among some of the American public.\n",
    "Some Trump supporters may approve of the administrations aggressive budget-cutting but other constituents have berated Republican legislators at town hall events.\n",
    "Hecklers have expressed fear that the cuts will adversely affect popular government programmes like Social Security retirement plans, veterans benefits, and health insurance coverage for the poor and elderly.\n",
    "Their concerns may not be entirely misplaced, given that these schemes make up the bulk of federal spending.\n",
    "If these programmes are not cut back, sweeping tax cuts that Trump has promised would further increase the scale of US government debt and put at risk arguably his biggest election promise - economic prosperity.\n",
    "Day 72 - Economy\n",
    "'I had to think fast as billions was lost before my eyes'\n",
    "When trader Richard McDonald saw Trump hold up his charts in the White House Rose Garden showing a list of countries targeted by US tariffs, he knew he had to act fast.\n",
    "\"I jumped to my feet because I wasnt expecting a board [of charts] - I was expecting an announcement,\" he says.\n",
    "McDonald expected tariff cuts of 10% or 20%, but says \"nobody expected these huge numbers\".\n",
    "He raced to understand which companies might be worst hit. Then he sold.\n",
    "\"There are billions being wiped off share prices every second, so it's really 'fastest finger first'.\"\n",
    "He is one of the many traders who were at the coal face of global markets when share prices plunged everywhere following Trumps so-called \"Liberation Day\" tariff announcement.\n",
    "The S&P 500 index of the largest firms listed in the US was hit particularly hard - and even though the White House has reversed course on some of the highest tariffs, it hasnt fully recovered since.\n",
    "The economy was the biggest concern for US voters in Novembers election, and Trump rode a tide of deep unhappiness over Bidens handling of inflation all the way to victory.\n",
    "His pledge to cut prices, pare back government regulation and boost homegrown industry was a pro-business message warmly welcomed on Wall Street and by many working Americans.\n",
    "But as Trump tries to follow through on his promise of new tariffs, the economic costs, at least in the short term, have become painfully apparent.\n",
    "The stock market is sinking, interest rates - including for home mortgages - are rising, and consumer confidence is down. Unemployment is also ticking up, in part due to the growing number of federal employees forced out of their jobs.\n",
    "The Federal Reserve Bank, along with economic experts, warn Trumps plan will shrink economic growth and possibly lead to a recession.\n",
    "While the presidents approval ratings on his handling of the economy have tumbled, many of his supporters are sticking with him. And in former industrial areas hollowed out by the loss of manufacturing jobs, there are hopes that tariffs could even the global playing field.\n",
    "\"Trump has earned back the respect,\" says truck driver Ben Maurer in Pennsylvania, referring to tariffs on China. \"We are still the force to be reckoned with.\"\n",
    "Economic concerns have contributed to Trumps overall decline in the polls, but in one key area, he is still largely on solid ground in the publics eye - immigration.\n",
    "Immigration\n",
    "\"It's him! It's him! I recognise his features,\" says Myrelis Casique Lopez, pointing at a photo of men shackled and cuffed on the floor of one of the most infamous prisons in the world.\n",
    "She had spotted her son in the image, taken from above, of a sea of shaven heads belonging to men in white T-shirts sat in long, straight rows.\n",
    "At home in Maracay, Venezuela, Ms Casique was shown the photograph, first shared online by the El Salvador authorities, by a BBC reporter.\n",
    "When she last had contact with her son, he was in the US and facing deportation to Venezuela but now he was 1,430 miles (2,300 km) away from her, one of 238 men sent by US authorities to a notorious mega-jail in El Salvador\n",
    "The Trump administration says they are members of the Tren de Aragua gang - a powerful, multi-national crime operation - but Ms Casique insists her son is innocent.\n",
    "A tough stance on immigration was a central plank of Trumps re-election campaign, and the president has used his broad powers of enforcement to deliver that pledge.\n",
    "Illegal border crossings were falling at the end of the Biden presidency, but are now at their lowest monthly total for more than four years.\n",
    "A majority of the US public still backs the crackdown, but it has had a chilling effect on communities of foreign students who have found themselves caught up in the blitz.\n",
    "Some, including permanent residents, have been detained and face deportation because of their role in pro-Palestinian campus protests. They have rejected accusations that they support Hamas.\n",
    "Civil rights lawyers warn that some migrants are being deported without due process, sweeping up the innocent among the \"killers and thugs\" that Trump says are being targeted.\n",
    "While so far there havent been the level of mass deportations that some hoped for and others feared, newly empowered immigration enforcement agents have taken action across the US in businesses, homes and churches.\n",
    "They have been active in universities too, which have become a prominent target of President Trump in several other ways.\n",
    "Day 91 - War on institutions\n",
    "A clash with academic, media and corporate worlds\n",
    "On 21 April, Harvard Universitys president, Alan Garber, decided to confront the White House head-on.\n",
    "In a letter to the university community, he announced a lawsuit challenging the Trump administrations move to freeze billions of dollars in federal grants.\n",
    "It was, he said, an illegal attempt to \"impose unprecedented and improper control\" over Harvards operations.\n",
    "The White House said it had to take action because Harvard had not tackled antisemitism on campus - an issue that Garber said the university was taking steps to address.\n",
    "But the Ivy League colleges move was the most prominent display of resistance against Trumps use of presidential power to target American higher education, a longstanding goal energised by pro-Palestinian protests that engulfed campuses in 2024.\n",
    "The president and his officials have since impounded or threatened to withhold billions of dollars in federal spending to reshape elite institutions like Harvard, which the president and many of his supporters think push a liberal ideology on students and researchers.\n",
    "Earlier in the month, Columbia University in New York City had agreed to a number of White House demands, including changes to its protest policies, campus security practices and Middle Eastern studies department.\n",
    "A similar dynamic has played out in the corporate and media worlds.\n",
    "Trump has used the withholding of federal contracts as a way to pressure law firms to recruit and represent more conservatives.\n",
    "Some of the firms have responded by offering the Trump administration millions of dollars in free legal services, while two firms have filed suit challenging the constitutionality of the administration punishments.\n",
    "A defamation lawsuit Trump brought against ABC News has led to the media company contributing $15m (£11m) to Trumps presidential foundation.\n",
    "CBS is also in talks to settle a separate lawsuit over a Kamala Harris interview, as its parent company Paramount seeks federal approval for a merger with Skydance Media.\n",
    "The Associated Press, by contrast, has resisted administration pressure to accept Trumps \"Gulf of America\" name change despite the White Houses efforts to block the news agency from coverage of the president.\n",
    "On the campaign trail, Trump warned about the runaway power of the federal government. Now in office, he is wielding that power in a way no previous modern president has attempted.\n",
    "Nowhere, however, have the impacts of his efforts been more visible than within the federal government agencies and departments that he now controls.\n",
    "Day 9 - Diversity projects\n",
    "A retreat on race and identity\n",
    "The press conference at the White House began with a moments silence for the victims of an aircraft collision over the Potomac River.\n",
    "Within seconds of the pause coming to an end, however, Trump was on the attack.\n",
    "A diversity and inclusion initiative at the Federal Aviation Agency was partly to blame for the tragedy, the president claimed, because it hired people with severe intellectual disabilities as air traffic controllers. He did not provide any evidence.\n",
    "It was a startling moment that was emblematic of the attack his presidency has launched against inclusivity programmes that have proliferated in recent years across the US government and corporate world.\n",
    "Trump has directed the federal government to end its diversity and equity (DEI) programmes and investigate private companies and academic institutions thought to be engaged in \"illegal DEI\".\n",
    "His directive has accelerated moves among leading global companies like Meta and Goldman to cut back or eliminate these programmes.\n",
    "First introduced in the 1960s in the wake of civil rights victories, early forms of DEI were an attempt to expand opportunities for black Americans. They later expanded to take in women, LGBT rights and other racial groups.\n",
    "Efforts were stepped up and embraced by much of corporate America in the wake of the 2020 Black Lives Matters protests following the death of George Floyd at the hands of Minneapolis Police officers.\n",
    "But to its critics, DEI was putting politics and race above talent, creating division and was no longer needed in modern America.\n",
    "While Trumps directive seems to have support from a narrow majority of voters, some of the unexpected consequences have raised eyebrows.\n",
    "Arlington National Cemetery scrubbed from its website all mentions of the history of black and female service members. And the Enola Gay aircraft that dropped an atomic bomb on Japan was initially flagged for removal from Pentagon documents, apparently due to the word \"gay\".\n",
    "Donald Trumps first 100 days have been an unprecedented display of unilateral power exercised by a modern American president.\n",
    "His efforts to dismantle large swaths of the federal government will take years, if not decades, for subsequent presidents to restore - if they so desire.\n",
    "In other ways, however, Trump efforts so far may end up being less permanent. Without the support of new laws passed by Congress, many of his sweeping reforms could be wiped away by a future president.\n",
    "And so to what extent this whirlwind start leads to lasting change remains an open question.\n",
    "Later this year, the narrow Republican majorities in Congress will attempt to provide the legislative backing for Trumps agenda, but their success is far from guaranteed.\n",
    "And in next years mid-term congressional elections, those majorities could be replaced by hostile Democrats bent on investigating the administration and curtailing his authority.\n",
    "Meanwhile, more court battles loom - and while the US Supreme Court has a conservative tilt, its decisions on a number of key cases could ultimately cut against Trumps efforts.\n",
    "The first 100 days of Trumps second term have been a dramatic show of political force, but the next 1,361 will be the real test of whether he can carve an enduring legacy.\"\"\""
   ]
  },
  {
   "cell_type": "markdown",
   "id": "b90f762f",
   "metadata": {},
   "source": [
    "### Character Text Splitting"
   ]
  },
  {
   "cell_type": "code",
   "execution_count": 18,
   "id": "73cf02b0",
   "metadata": {},
   "outputs": [],
   "source": [
    "# Import libraries\n",
    "from langchain.text_splitter import CharacterTextSplitter\n",
    "\n",
    "splitter = CharacterTextSplitter(\n",
    "    separator ='\\n',  \n",
    "    chunk_size = 400,\n",
    "    chunk_overlap =0\n",
    ")\n",
    "\n",
    "chunks = splitter.split_text(text)"
   ]
  },
  {
   "cell_type": "code",
   "execution_count": 19,
   "id": "6d8a6098",
   "metadata": {
    "scrolled": false
   },
   "outputs": [
    {
     "data": {
      "text/plain": [
       "51"
      ]
     },
     "execution_count": 19,
     "metadata": {},
     "output_type": "execute_result"
    }
   ],
   "source": [
    "len(chunks)"
   ]
  },
  {
   "cell_type": "code",
   "execution_count": 20,
   "id": "b8bf960b",
   "metadata": {},
   "outputs": [],
   "source": [
    "for i in chunks:\n",
    "    if (len(i)>400):\n",
    "          print (\"true\")"
   ]
  },
  {
   "cell_type": "markdown",
   "id": "d3d5258f",
   "metadata": {},
   "source": [
    "### Recursive Character Text Splitting"
   ]
  },
  {
   "cell_type": "code",
   "execution_count": 21,
   "id": "a1c144b6",
   "metadata": {},
   "outputs": [
    {
     "data": {
      "text/plain": [
       "51"
      ]
     },
     "execution_count": 21,
     "metadata": {},
     "output_type": "execute_result"
    }
   ],
   "source": [
    "# Import libraries\n",
    "from langchain.text_splitter import RecursiveCharacterTextSplitter\n",
    "\n",
    "rsplit = RecursiveCharacterTextSplitter(\n",
    "        separators = [\"\\n\\n\", \"\\n\", \" \"],\n",
    "        chunk_size= 400,\n",
    "        chunk_overlap =0\n",
    ")\n",
    "\n",
    "chunks_rsplit = rsplit.split_text(text)\n",
    "len(chunks_rsplit)"
   ]
  },
  {
   "cell_type": "code",
   "execution_count": 22,
   "id": "81db23a5",
   "metadata": {},
   "outputs": [],
   "source": [
    "for i in chunks_rsplit:\n",
    "    if (len(i)>400):\n",
    "          print (\"true\")"
   ]
  },
  {
   "cell_type": "code",
   "execution_count": 23,
   "id": "e31889cf",
   "metadata": {},
   "outputs": [
    {
     "name": "stdout",
     "output_type": "stream",
     "text": [
      "353\n",
      "374\n",
      "380\n",
      "276\n",
      "323\n",
      "310\n",
      "276\n",
      "177\n",
      "378\n",
      "355\n",
      "354\n",
      "299\n",
      "196\n",
      "243\n",
      "171\n",
      "307\n",
      "293\n",
      "371\n",
      "395\n",
      "372\n",
      "351\n",
      "372\n",
      "323\n",
      "369\n",
      "273\n",
      "387\n",
      "329\n",
      "362\n",
      "329\n",
      "314\n",
      "366\n",
      "365\n",
      "307\n",
      "278\n",
      "245\n",
      "268\n",
      "281\n",
      "342\n",
      "311\n",
      "389\n",
      "341\n",
      "330\n",
      "394\n",
      "355\n",
      "329\n",
      "136\n",
      "275\n",
      "280\n",
      "294\n",
      "349\n",
      "348\n"
     ]
    }
   ],
   "source": [
    "for i in chunks_rsplit:\n",
    "    print (len(i))"
   ]
  },
  {
   "cell_type": "markdown",
   "id": "edc81535",
   "metadata": {},
   "source": [
    "### Process of forming Chunks"
   ]
  },
  {
   "cell_type": "code",
   "execution_count": 24,
   "id": "8548c507",
   "metadata": {},
   "outputs": [
    {
     "name": "stdout",
     "output_type": "stream",
     "text": [
      "16245\n"
     ]
    }
   ],
   "source": [
    "chunk_R1 = text.split(\"\\n\\n\")\n",
    "\n",
    "for i in chunk_R1:\n",
    "    print(len(i))"
   ]
  },
  {
   "cell_type": "code",
   "execution_count": 25,
   "id": "5a9ce021",
   "metadata": {},
   "outputs": [
    {
     "data": {
      "text/plain": [
       "1"
      ]
     },
     "execution_count": 25,
     "metadata": {},
     "output_type": "execute_result"
    }
   ],
   "source": [
    "len(chunk_R1)"
   ]
  },
  {
   "cell_type": "markdown",
   "id": "7b6ac214",
   "metadata": {},
   "source": [
    "<p> There were no double lines entered(\\n\\n) in the text, hence only 1 chunk was made of length 16245"
   ]
  },
  {
   "cell_type": "code",
   "execution_count": 26,
   "id": "8881d98d",
   "metadata": {},
   "outputs": [
    {
     "data": {
      "text/plain": [
       "107"
      ]
     },
     "execution_count": 26,
     "metadata": {},
     "output_type": "execute_result"
    }
   ],
   "source": [
    "chunk_R2 = chunk_R1[0].split(\"\\n\")\n",
    "len(chunk_R2)"
   ]
  },
  {
   "cell_type": "code",
   "execution_count": 27,
   "id": "38e82afa",
   "metadata": {},
   "outputs": [
    {
     "name": "stdout",
     "output_type": "stream",
     "text": [
      "160\n",
      "52\n",
      "139\n",
      "204\n",
      "169\n",
      "200\n",
      "52\n",
      "55\n",
      "70\n",
      "191\n",
      "84\n",
      "170\n",
      "152\n",
      "166\n",
      "143\n",
      "137\n",
      "138\n",
      "177\n",
      "268\n",
      "109\n",
      "156\n",
      "198\n",
      "128\n",
      "159\n",
      "24\n",
      "40\n",
      "170\n",
      "128\n",
      "131\n",
      "64\n",
      "243\n",
      "171\n",
      "307\n",
      "293\n",
      "162\n",
      "208\n",
      "108\n",
      "211\n",
      "16\n",
      "57\n",
      "168\n",
      "111\n",
      "91\n",
      "72\n",
      "102\n",
      "175\n",
      "199\n",
      "172\n",
      "175\n",
      "147\n",
      "235\n",
      "133\n",
      "273\n",
      "159\n",
      "165\n",
      "11\n",
      "49\n",
      "185\n",
      "143\n",
      "138\n",
      "223\n",
      "164\n",
      "164\n",
      "141\n",
      "172\n",
      "190\n",
      "175\n",
      "214\n",
      "121\n",
      "28\n",
      "49\n",
      "101\n",
      "155\n",
      "108\n",
      "169\n",
      "245\n",
      "268\n",
      "213\n",
      "67\n",
      "127\n",
      "214\n",
      "140\n",
      "170\n",
      "208\n",
      "180\n",
      "149\n",
      "26\n",
      "30\n",
      "133\n",
      "79\n",
      "250\n",
      "203\n",
      "190\n",
      "131\n",
      "223\n",
      "199\n",
      "129\n",
      "136\n",
      "275\n",
      "125\n",
      "154\n",
      "201\n",
      "92\n",
      "170\n",
      "178\n",
      "176\n",
      "171\n"
     ]
    }
   ],
   "source": [
    "for i in chunk_R2:\n",
    "    print(len(i))"
   ]
  },
  {
   "cell_type": "markdown",
   "id": "6b1bf4ea",
   "metadata": {},
   "source": [
    "The final chunk size is size_sub_chunk_1 + ... + size_sub_chunk_n + n-1"
   ]
  }
 ],
 "metadata": {
  "kernelspec": {
   "display_name": "Python 3 (ipykernel)",
   "language": "python",
   "name": "python3"
  },
  "language_info": {
   "codemirror_mode": {
    "name": "ipython",
    "version": 3
   },
   "file_extension": ".py",
   "mimetype": "text/x-python",
   "name": "python",
   "nbconvert_exporter": "python",
   "pygments_lexer": "ipython3",
   "version": "3.9.13"
  }
 },
 "nbformat": 4,
 "nbformat_minor": 5
}
